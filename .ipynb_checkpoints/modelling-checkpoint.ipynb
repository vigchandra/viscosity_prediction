{
 "cells": [
  {
   "cell_type": "code",
   "execution_count": 8,
   "metadata": {},
   "outputs": [],
   "source": [
    "import pandas as pd\n",
    "import numpy as np\n",
    "from sklearn.model_selection import train_test_split\n",
    "from sklearn.linear_model import LinearRegression\n",
    "from sklearn.tree import DecisionTreeRegressor\n",
    "from sklearn.ensemble import RandomForestRegressor\n",
    "from sklearn.ensemble import GradientBoostingRegressor\n",
    "from sklearn.cross_decomposition import PLSRegression"
   ]
  },
  {
   "cell_type": "markdown",
   "metadata": {},
   "source": [
    "## Import processed data"
   ]
  },
  {
   "cell_type": "code",
   "execution_count": 7,
   "metadata": {},
   "outputs": [
    {
     "data": {
      "text/html": [
       "<div>\n",
       "<style scoped>\n",
       "    .dataframe tbody tr th:only-of-type {\n",
       "        vertical-align: middle;\n",
       "    }\n",
       "\n",
       "    .dataframe tbody tr th {\n",
       "        vertical-align: top;\n",
       "    }\n",
       "\n",
       "    .dataframe thead th {\n",
       "        text-align: right;\n",
       "    }\n",
       "</style>\n",
       "<table border=\"1\" class=\"dataframe\">\n",
       "  <thead>\n",
       "    <tr style=\"text-align: right;\">\n",
       "      <th></th>\n",
       "      <th>Stress</th>\n",
       "      <th>Shear rate</th>\n",
       "      <th>Viscosity</th>\n",
       "      <th>Step time</th>\n",
       "      <th>Temperature</th>\n",
       "      <th>Normal stress</th>\n",
       "      <th>sheet_temp</th>\n",
       "      <th>file_name</th>\n",
       "      <th>pressure_ppm</th>\n",
       "      <th>condition_temp</th>\n",
       "      <th>compound</th>\n",
       "    </tr>\n",
       "  </thead>\n",
       "  <tbody>\n",
       "    <tr>\n",
       "      <th>0</th>\n",
       "      <td>0.011794</td>\n",
       "      <td>1.00003</td>\n",
       "      <td>0.011794</td>\n",
       "      <td>39.9531</td>\n",
       "      <td>25.000</td>\n",
       "      <td>0.402864</td>\n",
       "      <td>25 C</td>\n",
       "      <td>new_polymer_rheology/Polymer DPTLB 2070 C_1000...</td>\n",
       "      <td>1000</td>\n",
       "      <td>25</td>\n",
       "      <td>DPTLB 2070 C</td>\n",
       "    </tr>\n",
       "    <tr>\n",
       "      <th>1</th>\n",
       "      <td>0.009812</td>\n",
       "      <td>1.25895</td>\n",
       "      <td>0.007793</td>\n",
       "      <td>80.0156</td>\n",
       "      <td>25.007</td>\n",
       "      <td>0.400730</td>\n",
       "      <td>25 C</td>\n",
       "      <td>new_polymer_rheology/Polymer DPTLB 2070 C_1000...</td>\n",
       "      <td>1000</td>\n",
       "      <td>25</td>\n",
       "      <td>DPTLB 2070 C</td>\n",
       "    </tr>\n",
       "    <tr>\n",
       "      <th>2</th>\n",
       "      <td>0.005531</td>\n",
       "      <td>1.58489</td>\n",
       "      <td>0.003490</td>\n",
       "      <td>120.1410</td>\n",
       "      <td>25.005</td>\n",
       "      <td>0.399841</td>\n",
       "      <td>25 C</td>\n",
       "      <td>new_polymer_rheology/Polymer DPTLB 2070 C_1000...</td>\n",
       "      <td>1000</td>\n",
       "      <td>25</td>\n",
       "      <td>DPTLB 2070 C</td>\n",
       "    </tr>\n",
       "    <tr>\n",
       "      <th>3</th>\n",
       "      <td>0.007154</td>\n",
       "      <td>1.99528</td>\n",
       "      <td>0.003585</td>\n",
       "      <td>160.1720</td>\n",
       "      <td>24.999</td>\n",
       "      <td>0.400784</td>\n",
       "      <td>25 C</td>\n",
       "      <td>new_polymer_rheology/Polymer DPTLB 2070 C_1000...</td>\n",
       "      <td>1000</td>\n",
       "      <td>25</td>\n",
       "      <td>DPTLB 2070 C</td>\n",
       "    </tr>\n",
       "    <tr>\n",
       "      <th>4</th>\n",
       "      <td>0.009642</td>\n",
       "      <td>2.51182</td>\n",
       "      <td>0.003839</td>\n",
       "      <td>200.3440</td>\n",
       "      <td>24.998</td>\n",
       "      <td>0.402165</td>\n",
       "      <td>25 C</td>\n",
       "      <td>new_polymer_rheology/Polymer DPTLB 2070 C_1000...</td>\n",
       "      <td>1000</td>\n",
       "      <td>25</td>\n",
       "      <td>DPTLB 2070 C</td>\n",
       "    </tr>\n",
       "    <tr>\n",
       "      <th>...</th>\n",
       "      <td>...</td>\n",
       "      <td>...</td>\n",
       "      <td>...</td>\n",
       "      <td>...</td>\n",
       "      <td>...</td>\n",
       "      <td>...</td>\n",
       "      <td>...</td>\n",
       "      <td>...</td>\n",
       "      <td>...</td>\n",
       "      <td>...</td>\n",
       "      <td>...</td>\n",
       "    </tr>\n",
       "    <tr>\n",
       "      <th>3712</th>\n",
       "      <td>1.372170</td>\n",
       "      <td>398.10700</td>\n",
       "      <td>0.003447</td>\n",
       "      <td>1083.1200</td>\n",
       "      <td>79.989</td>\n",
       "      <td>0.277452</td>\n",
       "      <td>80 C</td>\n",
       "      <td>new_polymer_rheology/Polymer SAV10_600ppm.xlsx</td>\n",
       "      <td>600</td>\n",
       "      <td>80</td>\n",
       "      <td>SAV10</td>\n",
       "    </tr>\n",
       "    <tr>\n",
       "      <th>3713</th>\n",
       "      <td>1.811600</td>\n",
       "      <td>501.18700</td>\n",
       "      <td>0.003615</td>\n",
       "      <td>1123.2500</td>\n",
       "      <td>79.995</td>\n",
       "      <td>0.272756</td>\n",
       "      <td>80 C</td>\n",
       "      <td>new_polymer_rheology/Polymer SAV10_600ppm.xlsx</td>\n",
       "      <td>600</td>\n",
       "      <td>80</td>\n",
       "      <td>SAV10</td>\n",
       "    </tr>\n",
       "    <tr>\n",
       "      <th>3714</th>\n",
       "      <td>2.389860</td>\n",
       "      <td>630.95800</td>\n",
       "      <td>0.003788</td>\n",
       "      <td>1163.7200</td>\n",
       "      <td>79.993</td>\n",
       "      <td>0.264701</td>\n",
       "      <td>80 C</td>\n",
       "      <td>new_polymer_rheology/Polymer SAV10_600ppm.xlsx</td>\n",
       "      <td>600</td>\n",
       "      <td>80</td>\n",
       "      <td>SAV10</td>\n",
       "    </tr>\n",
       "    <tr>\n",
       "      <th>3715</th>\n",
       "      <td>3.103090</td>\n",
       "      <td>794.32800</td>\n",
       "      <td>0.003907</td>\n",
       "      <td>1203.8300</td>\n",
       "      <td>79.983</td>\n",
       "      <td>0.247215</td>\n",
       "      <td>80 C</td>\n",
       "      <td>new_polymer_rheology/Polymer SAV10_600ppm.xlsx</td>\n",
       "      <td>600</td>\n",
       "      <td>80</td>\n",
       "      <td>SAV10</td>\n",
       "    </tr>\n",
       "    <tr>\n",
       "      <th>3716</th>\n",
       "      <td>4.066420</td>\n",
       "      <td>1000.00000</td>\n",
       "      <td>0.004066</td>\n",
       "      <td>1243.9500</td>\n",
       "      <td>79.998</td>\n",
       "      <td>0.222208</td>\n",
       "      <td>80 C</td>\n",
       "      <td>new_polymer_rheology/Polymer SAV10_600ppm.xlsx</td>\n",
       "      <td>600</td>\n",
       "      <td>80</td>\n",
       "      <td>SAV10</td>\n",
       "    </tr>\n",
       "  </tbody>\n",
       "</table>\n",
       "<p>3717 rows × 11 columns</p>\n",
       "</div>"
      ],
      "text/plain": [
       "        Stress  Shear rate  Viscosity  Step time  Temperature  Normal stress  \\\n",
       "0     0.011794     1.00003   0.011794    39.9531       25.000       0.402864   \n",
       "1     0.009812     1.25895   0.007793    80.0156       25.007       0.400730   \n",
       "2     0.005531     1.58489   0.003490   120.1410       25.005       0.399841   \n",
       "3     0.007154     1.99528   0.003585   160.1720       24.999       0.400784   \n",
       "4     0.009642     2.51182   0.003839   200.3440       24.998       0.402165   \n",
       "...        ...         ...        ...        ...          ...            ...   \n",
       "3712  1.372170   398.10700   0.003447  1083.1200       79.989       0.277452   \n",
       "3713  1.811600   501.18700   0.003615  1123.2500       79.995       0.272756   \n",
       "3714  2.389860   630.95800   0.003788  1163.7200       79.993       0.264701   \n",
       "3715  3.103090   794.32800   0.003907  1203.8300       79.983       0.247215   \n",
       "3716  4.066420  1000.00000   0.004066  1243.9500       79.998       0.222208   \n",
       "\n",
       "     sheet_temp                                          file_name  \\\n",
       "0          25 C  new_polymer_rheology/Polymer DPTLB 2070 C_1000...   \n",
       "1          25 C  new_polymer_rheology/Polymer DPTLB 2070 C_1000...   \n",
       "2          25 C  new_polymer_rheology/Polymer DPTLB 2070 C_1000...   \n",
       "3          25 C  new_polymer_rheology/Polymer DPTLB 2070 C_1000...   \n",
       "4          25 C  new_polymer_rheology/Polymer DPTLB 2070 C_1000...   \n",
       "...         ...                                                ...   \n",
       "3712       80 C     new_polymer_rheology/Polymer SAV10_600ppm.xlsx   \n",
       "3713       80 C     new_polymer_rheology/Polymer SAV10_600ppm.xlsx   \n",
       "3714       80 C     new_polymer_rheology/Polymer SAV10_600ppm.xlsx   \n",
       "3715       80 C     new_polymer_rheology/Polymer SAV10_600ppm.xlsx   \n",
       "3716       80 C     new_polymer_rheology/Polymer SAV10_600ppm.xlsx   \n",
       "\n",
       "      pressure_ppm  condition_temp      compound  \n",
       "0             1000              25  DPTLB 2070 C  \n",
       "1             1000              25  DPTLB 2070 C  \n",
       "2             1000              25  DPTLB 2070 C  \n",
       "3             1000              25  DPTLB 2070 C  \n",
       "4             1000              25  DPTLB 2070 C  \n",
       "...            ...             ...           ...  \n",
       "3712           600              80         SAV10  \n",
       "3713           600              80         SAV10  \n",
       "3714           600              80         SAV10  \n",
       "3715           600              80         SAV10  \n",
       "3716           600              80         SAV10  \n",
       "\n",
       "[3717 rows x 11 columns]"
      ]
     },
     "execution_count": 7,
     "metadata": {},
     "output_type": "execute_result"
    }
   ],
   "source": [
    "df_input = pd.read_csv('input/input.csv')\n",
    "df_input"
   ]
  },
  {
   "cell_type": "markdown",
   "metadata": {},
   "source": [
    "## Linear Regression"
   ]
  },
  {
   "cell_type": "code",
   "execution_count": 57,
   "metadata": {},
   "outputs": [
    {
     "name": "stdout",
     "output_type": "stream",
     "text": [
      "(992, 7) (248, 7) (992,) (248,)\n",
      "SAV 333 -------- 0.41195282109181885 0.4895034890360036\n",
      "(991, 7) (248, 7) (991,) (248,)\n",
      "DPTLB 2070 C -------- 0.4385862209386291 0.5232301789005256\n",
      "(990, 7) (248, 7) (990,) (248,)\n",
      "SAV10 -------- 0.3746473435487545 0.43756378426221265\n"
     ]
    }
   ],
   "source": [
    "for i in df_input.compound.value_counts().reset_index()['index']:\n",
    "    X = df_input.query(\"compound == @i\")[[\"Stress\", \"Shear rate\", \"Step time\", \"Temperature\", \"Normal stress\", \"pressure_ppm\", \"condition_temp\" ]]\n",
    "    y = df_input.query(\"compound == @i\")['Viscosity']\n",
    "    X_train, X_test, y_train, y_test = train_test_split(X, y, test_size=0.2, random_state=42)\n",
    "    print(X_train.shape, X_test.shape, y_train.shape, y_test.shape)\n",
    "    reg = LinearRegression().fit(X_train, y_train)\n",
    "    print(i, \"--------\", reg.score(X_train, y_train), reg.score(X_test, y_test))"
   ]
  },
  {
   "cell_type": "markdown",
   "metadata": {},
   "source": [
    "## Random Forest Regression"
   ]
  },
  {
   "cell_type": "code",
   "execution_count": 20,
   "metadata": {},
   "outputs": [
    {
     "name": "stdout",
     "output_type": "stream",
     "text": [
      "(992, 7) (248, 7) (992,) (248,)\n",
      "SAV 333 -------- 0.854703838403439 0.85842734727534\n",
      "(991, 7) (248, 7) (991,) (248,)\n",
      "DPTLB 2070 C -------- 0.8345477424291933 0.6537905701716075\n",
      "(990, 7) (248, 7) (990,) (248,)\n",
      "SAV10 -------- 0.8898950540391256 0.8874961403488232\n"
     ]
    }
   ],
   "source": [
    "for i in df_input.compound.value_counts().reset_index()['index']:\n",
    "    X = df_input.query(\"compound == @i\")[[\"Stress\", \"Shear rate\", \"Step time\", \"Temperature\", \"Normal stress\", \"pressure_ppm\", \"condition_temp\" ]]\n",
    "    y = df_input.query(\"compound == @i\")['Viscosity']\n",
    "    X_train, X_test, y_train, y_test = train_test_split(X, y, test_size=0.2, random_state=42)\n",
    "    print(X_train.shape, X_test.shape, y_train.shape, y_test.shape)\n",
    "    rf2 = RandomForestRegressor(max_depth=2, random_state=0)\n",
    "    rf2.fit(X_train, y_train)\n",
    "    print(i, \"--------\", rf2.score(X_train, y_train), rf2.score(X_test, y_test))"
   ]
  },
  {
   "cell_type": "code",
   "execution_count": 21,
   "metadata": {},
   "outputs": [
    {
     "name": "stdout",
     "output_type": "stream",
     "text": [
      "(992, 7) (248, 7) (992,) (248,)\n",
      "SAV 333 -------- 0.9835070794762587 0.9608294896463769\n",
      "(991, 7) (248, 7) (991,) (248,)\n",
      "DPTLB 2070 C -------- 0.966265355998281 0.794404328345586\n",
      "(990, 7) (248, 7) (990,) (248,)\n",
      "SAV10 -------- 0.9952842762584173 0.9922502301086172\n"
     ]
    }
   ],
   "source": [
    "for i in df_input.compound.value_counts().reset_index()['index']:\n",
    "    X = df_input.query(\"compound == @i\")[[\"Stress\", \"Shear rate\", \"Step time\", \"Temperature\", \"Normal stress\", \"pressure_ppm\", \"condition_temp\" ]]\n",
    "    y = df_input.query(\"compound == @i\")['Viscosity']\n",
    "    X_train, X_test, y_train, y_test = train_test_split(X, y, test_size=0.2, random_state=42)\n",
    "    print(X_train.shape, X_test.shape, y_train.shape, y_test.shape)\n",
    "    rf4 = RandomForestRegressor(max_depth=4, random_state=0)\n",
    "    rf4.fit(X_train, y_train)\n",
    "    print(i, \"--------\", rf4.score(X_train, y_train), rf4.score(X_test, y_test))"
   ]
  },
  {
   "cell_type": "code",
   "execution_count": 22,
   "metadata": {},
   "outputs": [
    {
     "name": "stdout",
     "output_type": "stream",
     "text": [
      "(992, 7) (248, 7) (992,) (248,)\n",
      "SAV 333 -------- 0.9960636625892015 0.9836998273852194\n",
      "(991, 7) (248, 7) (991,) (248,)\n",
      "DPTLB 2070 C -------- 0.9900393470490545 0.8523011652400335\n",
      "(990, 7) (248, 7) (990,) (248,)\n",
      "SAV10 -------- 0.9978758040283915 0.9959200782277041\n"
     ]
    }
   ],
   "source": [
    "for i in df_input.compound.value_counts().reset_index()['index']:\n",
    "    X = df_input.query(\"compound == @i\")[[\"Stress\", \"Shear rate\", \"Step time\", \"Temperature\", \"Normal stress\", \"pressure_ppm\", \"condition_temp\" ]]\n",
    "    y = df_input.query(\"compound == @i\")['Viscosity']\n",
    "    X_train, X_test, y_train, y_test = train_test_split(X, y, test_size=0.2, random_state=42)\n",
    "    print(X_train.shape, X_test.shape, y_train.shape, y_test.shape)\n",
    "    rf6 = RandomForestRegressor(max_depth=6, random_state=0)\n",
    "    rf6.fit(X_train, y_train)\n",
    "    print(i, \"--------\", rf6.score(X_train, y_train), rf6.score(X_test, y_test))"
   ]
  },
  {
   "cell_type": "code",
   "execution_count": 23,
   "metadata": {},
   "outputs": [
    {
     "name": "stdout",
     "output_type": "stream",
     "text": [
      "(992, 7) (248, 7) (992,) (248,)\n",
      "SAV 333 -------- 0.9974410068257599 0.987114467124405\n",
      "(991, 7) (248, 7) (991,) (248,)\n",
      "DPTLB 2070 C -------- 0.9925513227670444 0.8615103614767899\n",
      "(990, 7) (248, 7) (990,) (248,)\n",
      "SAV10 -------- 0.9981956449426882 0.9954651988179806\n"
     ]
    }
   ],
   "source": [
    "for i in df_input.compound.value_counts().reset_index()['index']:\n",
    "    X = df_input.query(\"compound == @i\")[[\"Stress\", \"Shear rate\", \"Step time\", \"Temperature\", \"Normal stress\", \"pressure_ppm\", \"condition_temp\" ]]\n",
    "    y = df_input.query(\"compound == @i\")['Viscosity']\n",
    "    X_train, X_test, y_train, y_test = train_test_split(X, y, test_size=0.2, random_state=42)\n",
    "    print(X_train.shape, X_test.shape, y_train.shape, y_test.shape)\n",
    "    rf10 = RandomForestRegressor(max_depth=10, random_state=0)\n",
    "    rf10.fit(X_train, y_train)\n",
    "    print(i, \"--------\", rf10.score(X_train, y_train), rf10.score(X_test, y_test))"
   ]
  },
  {
   "cell_type": "markdown",
   "metadata": {},
   "source": [
    "## Gradient Boost Regressor"
   ]
  },
  {
   "cell_type": "code",
   "execution_count": 5,
   "metadata": {},
   "outputs": [
    {
     "name": "stdout",
     "output_type": "stream",
     "text": [
      "(992, 7) (248, 7) (992,) (248,)\n",
      "SAV 333 -------- 0.6841590184654753 0.6340021084900505\n",
      "(991, 7) (248, 7) (991,) (248,)\n",
      "DPTLB 2070 C -------- 0.6229714185474624 0.5858495637166595\n",
      "(990, 7) (248, 7) (990,) (248,)\n",
      "SAV10 -------- 0.6071989538593898 0.5719582914226926\n"
     ]
    }
   ],
   "source": [
    "for i in df_input.compound.value_counts().reset_index()['index']:\n",
    "    X = df_input.query(\"compound == @i\")[[\"Stress\", \"Shear rate\", \"Step time\", \"Temperature\", \"Normal stress\", \"pressure_ppm\", \"condition_temp\" ]]\n",
    "    y = df_input.query(\"compound == @i\")['Viscosity']\n",
    "    X_train, X_test, y_train, y_test = train_test_split(X, y, test_size=0.2, random_state=42)\n",
    "    print(X_train.shape, X_test.shape, y_train.shape, y_test.shape)\n",
    "    gbr = GradientBoostingRegressor(n_estimators=100, learning_rate=0.1, max_depth=1, random_state=0)\n",
    "    gbr.fit(X_train, y_train)\n",
    "    print(i, \"--------\", gbr.score(X_train, y_train), gbr.score(X_test, y_test))"
   ]
  },
  {
   "cell_type": "markdown",
   "metadata": {},
   "source": [
    "## PLS Regression"
   ]
  },
  {
   "cell_type": "code",
   "execution_count": 11,
   "metadata": {},
   "outputs": [
    {
     "name": "stdout",
     "output_type": "stream",
     "text": [
      "(992, 7) (248, 7) (992,) (248,)\n",
      "SAV 333 -------- 0.32511066000041317 0.398157246787738\n",
      "(991, 7) (248, 7) (991,) (248,)\n",
      "DPTLB 2070 C -------- 0.32626483683183527 0.3658673775262299\n",
      "(990, 7) (248, 7) (990,) (248,)\n",
      "SAV10 -------- 0.2852683049806276 0.3217871399359391\n"
     ]
    }
   ],
   "source": [
    "for i in df_input.compound.value_counts().reset_index()['index']:\n",
    "    X = df_input.query(\"compound == @i\")[[\"Stress\", \"Shear rate\", \"Step time\", \"Temperature\", \"Normal stress\", \"pressure_ppm\", \"condition_temp\" ]]\n",
    "    y = df_input.query(\"compound == @i\")['Viscosity']\n",
    "    X_train, X_test, y_train, y_test = train_test_split(X, y, test_size=0.2, random_state=42)\n",
    "    print(X_train.shape, X_test.shape, y_train.shape, y_test.shape)\n",
    "    pls2 = PLSRegression(n_components=2)\n",
    "    pls2.fit(X_train, y_train)\n",
    "    print(i, \"--------\", pls2.score(X_train, y_train), pls2.score(X_test, y_test))"
   ]
  },
  {
   "cell_type": "code",
   "execution_count": 12,
   "metadata": {},
   "outputs": [
    {
     "name": "stdout",
     "output_type": "stream",
     "text": [
      "(992, 7) (248, 7) (992,) (248,)\n",
      "SAV 333 -------- 0.40902717752902973 0.4881957769695677\n",
      "(991, 7) (248, 7) (991,) (248,)\n",
      "DPTLB 2070 C -------- 0.4205785354203449 0.47246375275473107\n",
      "(990, 7) (248, 7) (990,) (248,)\n",
      "SAV10 -------- 0.32114878833986193 0.38027454082613804\n"
     ]
    }
   ],
   "source": [
    "for i in df_input.compound.value_counts().reset_index()['index']:\n",
    "    X = df_input.query(\"compound == @i\")[[\"Stress\", \"Shear rate\", \"Step time\", \"Temperature\", \"Normal stress\", \"pressure_ppm\", \"condition_temp\" ]]\n",
    "    y = df_input.query(\"compound == @i\")['Viscosity']\n",
    "    X_train, X_test, y_train, y_test = train_test_split(X, y, test_size=0.2, random_state=42)\n",
    "    print(X_train.shape, X_test.shape, y_train.shape, y_test.shape)\n",
    "    pls3 = PLSRegression(n_components=3)\n",
    "    pls3.fit(X_train, y_train)\n",
    "    print(i, \"--------\", pls3.score(X_train, y_train), pls3.score(X_test, y_test))"
   ]
  },
  {
   "cell_type": "code",
   "execution_count": 17,
   "metadata": {},
   "outputs": [
    {
     "name": "stdout",
     "output_type": "stream",
     "text": [
      "(992, 7) (248, 7) (992,) (248,)\n",
      "SAV 333 -------- 0.4119528210918192 0.4895034890360078\n",
      "(991, 7) (248, 7) (991,) (248,)\n",
      "DPTLB 2070 C -------- 0.4385862209386303 0.5232301789005253\n",
      "(990, 7) (248, 7) (990,) (248,)\n",
      "SAV10 -------- 0.3746473435487541 0.4375637842622184\n"
     ]
    }
   ],
   "source": [
    "for i in df_input.compound.value_counts().reset_index()['index']:\n",
    "    X = df_input.query(\"compound == @i\")[[\"Stress\", \"Shear rate\", \"Step time\", \"Temperature\", \"Normal stress\", \"pressure_ppm\", \"condition_temp\" ]]\n",
    "    y = df_input.query(\"compound == @i\")['Viscosity']\n",
    "    X_train, X_test, y_train, y_test = train_test_split(X, y, test_size=0.2, random_state=42)\n",
    "    print(X_train.shape, X_test.shape, y_train.shape, y_test.shape)\n",
    "    pls7 = PLSRegression(n_components=7)\n",
    "    pls7.fit(X_train, y_train)\n",
    "    print(i, \"--------\", pls7.score(X_train, y_train), pls7.score(X_test, y_test))"
   ]
  },
  {
   "cell_type": "code",
   "execution_count": null,
   "metadata": {},
   "outputs": [],
   "source": []
  }
 ],
 "metadata": {
  "kernelspec": {
   "display_name": "Python 3",
   "language": "python",
   "name": "python3"
  },
  "language_info": {
   "codemirror_mode": {
    "name": "ipython",
    "version": 3
   },
   "file_extension": ".py",
   "mimetype": "text/x-python",
   "name": "python",
   "nbconvert_exporter": "python",
   "pygments_lexer": "ipython3",
   "version": "3.7.6"
  }
 },
 "nbformat": 4,
 "nbformat_minor": 4
}
