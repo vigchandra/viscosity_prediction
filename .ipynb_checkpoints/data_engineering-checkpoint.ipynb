{
 "cells": [
  {
   "cell_type": "code",
   "execution_count": 79,
   "metadata": {},
   "outputs": [
    {
     "data": {
      "text/plain": [
       "DataTransformerRegistry.enable('default')"
      ]
     },
     "execution_count": 79,
     "metadata": {},
     "output_type": "execute_result"
    }
   ],
   "source": [
    "import pandas as pd\n",
    "import numpy as np\n",
    "import os\n",
    "import altair as alt\n",
    "import glob\n",
    "alt.data_transformers.disable_max_rows()"
   ]
  },
  {
   "cell_type": "markdown",
   "metadata": {},
   "source": [
    "## Read Files"
   ]
  },
  {
   "cell_type": "code",
   "execution_count": 88,
   "metadata": {},
   "outputs": [
    {
     "name": "stdout",
     "output_type": "stream",
     "text": [
      "<DirEntry 'Polymer DPTLB 2070 C_1000ppm.xlsx'> Index(['Stress', 'Shear rate', 'Viscosity', 'Step time', 'Temperature',\n",
      "       'Normal stress', 'sheet_temp', 'file_name'],\n",
      "      dtype='object') (155, 8)\n",
      "<DirEntry 'Polymer DPTLB 2070 C_1200ppm.xlsx'> Index(['Stress', 'Shear rate', 'Viscosity', 'Step time', 'Temperature',\n",
      "       'Normal stress', 'sheet_temp', 'file_name'],\n",
      "      dtype='object') (310, 8)\n",
      "<DirEntry 'Polymer DPTLB 2070 C_1600ppm.xlsx'> Index(['Stress', 'Shear rate', 'Viscosity', 'Step time', 'Temperature',\n",
      "       'Normal stress', 'sheet_temp', 'file_name'],\n",
      "      dtype='object') (465, 8)\n",
      "<DirEntry 'Polymer DPTLB 2070 C_2000ppm.xlsx'> Index(['Stress', 'Shear rate', 'Viscosity', 'Step time', 'Temperature',\n",
      "       'Normal stress', 'sheet_temp', 'file_name'],\n",
      "      dtype='object') (620, 8)\n",
      "<DirEntry 'Polymer DPTLB 2070 C_2400ppm.xlsx'> Index(['Stress', 'Shear rate', 'Viscosity', 'Step time', 'Temperature',\n",
      "       'Normal stress', 'sheet_temp', 'file_name'],\n",
      "      dtype='object') (775, 8)\n",
      "<DirEntry 'Polymer DPTLB 2070 C_300ppm.xlsx'> Index(['Stress', 'Shear rate', 'Viscosity', 'Step time', 'Temperature',\n",
      "       'Normal stress', 'sheet_temp', 'file_name'],\n",
      "      dtype='object') (929, 8)\n",
      "<DirEntry 'Polymer DPTLB 2070 C_5000ppm.xlsx'> Index(['Stress', 'Shear rate', 'Viscosity', 'Step time', 'Temperature',\n",
      "       'Normal stress', 'sheet_temp', 'file_name'],\n",
      "      dtype='object') (1084, 8)\n",
      "<DirEntry 'Polymer DPTLB 2070 C_600ppm.xlsx'> Index(['Stress', 'Shear rate', 'Viscosity', 'Step time', 'Temperature',\n",
      "       'Normal stress', 'sheet_temp', 'file_name'],\n",
      "      dtype='object') (1239, 8)\n",
      "<DirEntry 'Polymer SAV 333_1000ppm.xlsx'> Index(['Stress', 'Shear rate', 'Viscosity', 'Step time', 'Temperature',\n",
      "       'Normal stress', 'sheet_temp', 'file_name'],\n",
      "      dtype='object') (1394, 8)\n",
      "<DirEntry 'Polymer SAV 333_1200ppm.xlsx'> Index(['Stress', 'Shear rate', 'Viscosity', 'Step time', 'Temperature',\n",
      "       'Normal stress', 'sheet_temp', 'file_name'],\n",
      "      dtype='object') (1549, 8)\n",
      "<DirEntry 'Polymer SAV 333_1600ppm.xlsx'> Index(['Stress', 'Shear rate', 'Viscosity', 'Step time', 'Temperature',\n",
      "       'Normal stress', 'sheet_temp', 'file_name'],\n",
      "      dtype='object') (1704, 8)\n",
      "<DirEntry 'Polymer SAV 333_2000ppm.xlsx'> Index(['Stress', 'Shear rate', 'Viscosity', 'Step time', 'Temperature',\n",
      "       'Normal stress', 'sheet_temp', 'file_name'],\n",
      "      dtype='object') (1859, 8)\n",
      "<DirEntry 'Polymer SAV 333_2400ppm.xlsx'> Index(['Stress', 'Shear rate', 'Viscosity', 'Step time', 'Temperature',\n",
      "       'Normal stress', 'sheet_temp', 'file_name'],\n",
      "      dtype='object') (2014, 8)\n",
      "<DirEntry 'Polymer SAV 333_300ppm.xlsx'> Index(['Stress', 'Shear rate', 'Viscosity', 'Step time', 'Temperature',\n",
      "       'Normal stress', 'sheet_temp', 'file_name'],\n",
      "      dtype='object') (2169, 8)\n",
      "<DirEntry 'Polymer SAV 333_5000ppm.xlsx'> Index(['Stress', 'Shear rate', 'Viscosity', 'Step time', 'Temperature',\n",
      "       'Normal stress', 'sheet_temp', 'file_name'],\n",
      "      dtype='object') (2324, 8)\n",
      "<DirEntry 'Polymer SAV 333_600ppm.xlsx'> Index(['Stress', 'Shear rate', 'Viscosity', 'Step time', 'Temperature',\n",
      "       'Normal stress', 'sheet_temp', 'file_name'],\n",
      "      dtype='object') (2479, 8)\n",
      "<DirEntry 'Polymer SAV10_1000ppm.xlsx'> Index(['Stress', 'Shear rate', 'Viscosity', 'Step time', 'Temperature',\n",
      "       'Normal stress', 'sheet_temp', 'file_name'],\n",
      "      dtype='object') (2634, 8)\n",
      "<DirEntry 'Polymer SAV10_1200ppm.xlsx'> Index(['Stress', 'Shear rate', 'Viscosity', 'Step time', 'Temperature',\n",
      "       'Normal stress', 'sheet_temp', 'file_name'],\n",
      "      dtype='object') (2789, 8)\n",
      "<DirEntry 'Polymer SAV10_1600ppm.xlsx'> Index(['Stress', 'Shear rate', 'Viscosity', 'Step time', 'Temperature',\n",
      "       'Normal stress', 'sheet_temp', 'file_name'],\n",
      "      dtype='object') (2944, 8)\n",
      "<DirEntry 'Polymer SAV10_2000ppm.xlsx'> Index(['Stress', 'Shear rate', 'Viscosity', 'Step time', 'Temperature',\n",
      "       'Normal stress', 'sheet_temp', 'file_name'],\n",
      "      dtype='object') (3099, 8)\n",
      "<DirEntry 'Polymer SAV10_2400ppm.xlsx'> Index(['Stress', 'Shear rate', 'Viscosity', 'Step time', 'Temperature',\n",
      "       'Normal stress', 'sheet_temp', 'file_name'],\n",
      "      dtype='object') (3254, 8)\n",
      "<DirEntry 'Polymer SAV10_300ppm.xlsx'> Index(['Stress', 'Shear rate', 'Viscosity', 'Step time', 'Temperature',\n",
      "       'Normal stress', 'sheet_temp', 'file_name'],\n",
      "      dtype='object') (3408, 8)\n",
      "<DirEntry 'Polymer SAV10_5000ppm.xlsx'> Index(['Stress', 'Shear rate', 'Viscosity', 'Step time', 'Temperature',\n",
      "       'Normal stress', 'sheet_temp', 'file_name'],\n",
      "      dtype='object') (3563, 8)\n",
      "<DirEntry 'Polymer SAV10_600ppm.xlsx'> Index(['Stress', 'Shear rate', 'Viscosity', 'Step time', 'Temperature',\n",
      "       'Normal stress', 'sheet_temp', 'file_name'],\n",
      "      dtype='object') (3717, 8)\n"
     ]
    }
   ],
   "source": [
    "all_files = pd.DataFrame()\n",
    "for filename in os.scandir(directory):\n",
    "    if filename.is_file():\n",
    "        df_sheets = pd.ExcelFile(filename.path)\n",
    "        one_file = pd.DataFrame()\n",
    "        for i in df_sheets.sheet_names:\n",
    "            df = pd.DataFrame(df_sheets.parse(i, skiprows=2, usecols=range(2,10)))\n",
    "            df = df[1:]\n",
    "            df['sheet_temp'] = i\n",
    "            one_file = one_file.append(df)\n",
    "            #print(df.shape)\n",
    "        one_file['file_name'] = filename.path\n",
    "        #print(filename.path, one_file.shape)\n",
    "    all_files = all_files.append(one_file)\n",
    "    print(filename, one_file.columns, all_files.shape)"
   ]
  },
  {
   "cell_type": "markdown",
   "metadata": {},
   "source": [
    "## Check for null values"
   ]
  },
  {
   "cell_type": "code",
   "execution_count": 98,
   "metadata": {},
   "outputs": [
    {
     "data": {
      "text/plain": [
       "Stress           0\n",
       "Shear rate       0\n",
       "Viscosity        0\n",
       "Step time        0\n",
       "Temperature      0\n",
       "Normal stress    0\n",
       "sheet_temp       0\n",
       "file_name        0\n",
       "dtype: int64"
      ]
     },
     "execution_count": 98,
     "metadata": {},
     "output_type": "execute_result"
    }
   ],
   "source": [
    "all_files.isnull().sum()"
   ]
  },
  {
   "cell_type": "markdown",
   "metadata": {},
   "source": [
    "## Write file"
   ]
  },
  {
   "cell_type": "code",
   "execution_count": 97,
   "metadata": {},
   "outputs": [],
   "source": [
    "all_files.to_csv('new_polymer_rheology/clean/input.csv')"
   ]
  }
 ],
 "metadata": {
  "kernelspec": {
   "display_name": "Python 3",
   "language": "python",
   "name": "python3"
  },
  "language_info": {
   "codemirror_mode": {
    "name": "ipython",
    "version": 3
   },
   "file_extension": ".py",
   "mimetype": "text/x-python",
   "name": "python",
   "nbconvert_exporter": "python",
   "pygments_lexer": "ipython3",
   "version": "3.7.6"
  }
 },
 "nbformat": 4,
 "nbformat_minor": 4
}
